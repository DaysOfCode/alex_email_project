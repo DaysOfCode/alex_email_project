{
 "cells": [
  {
   "cell_type": "code",
   "execution_count": 32,
   "metadata": {},
   "outputs": [],
   "source": [
    "import pandas as pd\n",
    "import numpy as np\n",
    "from sklearn.externals import joblib\n",
    "\n",
    "trained_lda = joblib.load('lda.pkl')\n",
    "trained_cv = joblib.load('cv.pkl')"
   ]
  },
  {
   "cell_type": "code",
   "execution_count": 33,
   "metadata": {},
   "outputs": [],
   "source": [
    "feature_names = trained_cv.get_feature_names()\n",
    "topics = pd.DataFrame(trained_lda.components_, columns=feature_names)"
   ]
  },
  {
   "cell_type": "code",
   "execution_count": 34,
   "metadata": {},
   "outputs": [
    {
     "name": "stdout",
     "output_type": "stream",
     "text": [
      "('Topic', 0)\n",
      "(u'com sungardas marketplace seller product ramsey aws mail meg information ops amazon questions non iam 12 pm 2016 services santa clara 2015 uploaded nthanks web', '\\n')\n",
      "('Topic', 1)\n",
      "(u'summit keynote big com york year twitter nwatch njoin chicago city dr live nread docker make stream like stories strategy streaming day presentation nstay matt', '\\n')\n",
      "('Topic', 2)\n",
      "(u'amazon aws com instances instance web https namazon services ec2 rds region support longer ids available http v2 urldefense proofpoint gybc gkv5bqa9zrq1gfcvg ebs url new', '\\n')\n",
      "('Topic', 3)\n",
      "(u'amazon aws services web com namazon message naws new nlearn cloud webinars reserved receive view nwe ave policy rights subsidiary learn distributed affiliates north trademark', '\\n')\n",
      "('Topic', 4)\n",
      "(u'invent aws lambda 10 node 2016 opportunities sessions tools functions october js 2015 oracle november naws conference hours security bootcamps including updates maintenance aurora architectures', '\\n')\n",
      "('Topic', 5)\n",
      "(u'aws amazon management com marketplace access customer report organization credentials support business partners security subscriber available nyour ensure nsincerely product team software offered eligible monthly', '\\n')\n",
      "('Topic', 6)\n",
      "(u'webinar series data practices aws nregister partner best nlearn 00 10 range sessions technical topics broad cloud register presentations led cover architects 11 solutions selection', '\\n')\n",
      "('Topic', 7)\n",
      "(u'amazon com case aws link services web mail contact following support issue nhttps use address url using note need sent https accept log federation email', '\\n')\n",
      "('Topic', 8)\n",
      "(u'account services amazon web com 2015 2016 aws opt namazon sungardas nif number billing email view charges payment naws consolidated sungard usd 00 console nto', '\\n')\n",
      "('Topic', 9)\n",
      "(u'marketplace aws products portal report feedback know nhow download data daily management don com team amazon nyour subscriptions ops enhanced seller login production log snapshots', '\\n')\n"
     ]
    }
   ],
   "source": [
    "for topic in range(10):\n",
    "    print('Topic', topic)\n",
    "    word_list = topics.T[topic].sort_values(ascending=False).index\n",
    "    print(' '.join(word_list[0:25]), '\\n')"
   ]
  },
  {
   "cell_type": "code",
   "execution_count": 35,
   "metadata": {
    "collapsed": true
   },
   "outputs": [],
   "source": [
    "email_to_predict = \"\"\"\n",
    "Hello AWS Direct Connect Customer,\n",
    "\n",
    "Planned maintenance has been scheduled on an AWS Direct Connect router in Equinix DC1 - DC6 &amp; DC10 - DC12, Ashburn, VA from Fri, 16 Feb 2018 08:00:00 GMT to Fri, 16 Feb 2018 12:00:00 GMT for 4 hours. During this maintenance window, your AWS Direct Connect services listed below may become unavailable.\n",
    "\n",
    "dxvif-fffzfd3f\n",
    "\n",
    "This maintenance is scheduled to avoid disrupting redundant connections at the same time.\n",
    "\n",
    "If you encounter any problems with your connection after the end of this maintenance window, please contact us at https://urldefense.proofpoint.com/v2/url?u=https-3A__aws.amazon.com_support&d=DwICaQ&c=gYbc-GKV5BQa9zrq1GFCVg&r=vL-zcJ5kyTQFOV5BuCTdHQI8Vws_qIXit1PydMzyiNs&m=6yGjNyUqNSQd2Ts6DDOf44H6HPCXy5Fy9vEKLukFjoA&s=DB0rKGFxDFZbXcq_jvRItYH0n8hjGEJ1wNUgPujFySY&e= .\n",
    "\n",
    "Regards,\n",
    "The AWS Direct Connect Team\n",
    "\n",
    "Amazon Web Services, Inc. is a subsidiary of Amazon.com, Inc. Amazon.com is a registered trademark of Amazon.com, Inc. This message was produced and distributed by Amazon Web Services Inc., 410 Terry Ave. North, Seattle, WA 98109-5210\n",
    "\"\"\"\n",
    "df_predict = pd.DataFrame(data={'content': [email_to_predict]})\n",
    "X_predict = trained_cv.transform(df_predict['content'].values)\n",
    "X_predict\n",
    "prop_predict = trained_lda.transform(X_predict)"
   ]
  },
  {
   "cell_type": "code",
   "execution_count": 36,
   "metadata": {},
   "outputs": [
    {
     "name": "stdout",
     "output_type": "stream",
     "text": [
      "(1, 21139)\n",
      "  (0, 0)\t4\n",
      "  (0, 151)\t1\n",
      "  (0, 409)\t1\n",
      "  (0, 526)\t2\n",
      "  (0, 878)\t2\n",
      "  (0, 2115)\t1\n",
      "  (0, 2465)\t1\n",
      "  (0, 2975)\t1\n",
      "  (0, 5293)\t1\n",
      "  (0, 6395)\t6\n",
      "  (0, 6757)\t1\n",
      "  (0, 6763)\t1\n",
      "  (0, 6778)\t4\n",
      "  (0, 8342)\t4\n",
      "  (0, 8588)\t1\n",
      "  (0, 8734)\t4\n",
      "  (0, 8737)\t1\n",
      "  (0, 8738)\t1\n",
      "  (0, 8780)\t1\n",
      "  (0, 9023)\t1\n",
      "  (0, 9605)\t4\n",
      "  (0, 9651)\t1\n",
      "  (0, 9659)\t1\n",
      "  (0, 9847)\t1\n",
      "  (0, 9855)\t1\n",
      "  :\t:\n",
      "  (0, 17079)\t1\n",
      "  (0, 17095)\t1\n",
      "  (0, 17134)\t1\n",
      "  (0, 17655)\t1\n",
      "  (0, 17677)\t1\n",
      "  (0, 17684)\t1\n",
      "  (0, 18047)\t1\n",
      "  (0, 18304)\t2\n",
      "  (0, 18361)\t1\n",
      "  (0, 18454)\t3\n",
      "  (0, 19019)\t1\n",
      "  (0, 19246)\t1\n",
      "  (0, 19297)\t1\n",
      "  (0, 19400)\t1\n",
      "  (0, 19513)\t1\n",
      "  (0, 19799)\t1\n",
      "  (0, 19920)\t1\n",
      "  (0, 19922)\t1\n",
      "  (0, 20005)\t1\n",
      "  (0, 20035)\t1\n",
      "  (0, 20196)\t1\n",
      "  (0, 20339)\t1\n",
      "  (0, 20407)\t2\n",
      "  (0, 20488)\t2\n",
      "  (0, 20991)\t1\n"
     ]
    }
   ],
   "source": [
    "print X_predict.shape\n",
    "print X_predict[0]"
   ]
  },
  {
   "cell_type": "code",
   "execution_count": 37,
   "metadata": {},
   "outputs": [
    {
     "name": "stdout",
     "output_type": "stream",
     "text": [
      "[[ 0.02013227  0.0010001   0.4542871   0.0010003   0.07011341  0.05066359\n",
      "   0.01655853  0.18697786  0.19826675  0.00100008]]\n",
      "[ 0.4542871   0.19826675  0.18697786]\n"
     ]
    }
   ],
   "source": [
    "print prop_predict\n",
    "print np.sort(prop_predict[0])[::-1][:3]"
   ]
  }
 ],
 "metadata": {
  "kernelspec": {
   "display_name": "Python 2",
   "language": "python",
   "name": "python2"
  },
  "language_info": {
   "codemirror_mode": {
    "name": "ipython",
    "version": 2
   },
   "file_extension": ".py",
   "mimetype": "text/x-python",
   "name": "python",
   "nbconvert_exporter": "python",
   "pygments_lexer": "ipython2",
   "version": "2.7.13"
  }
 },
 "nbformat": 4,
 "nbformat_minor": 2
}
